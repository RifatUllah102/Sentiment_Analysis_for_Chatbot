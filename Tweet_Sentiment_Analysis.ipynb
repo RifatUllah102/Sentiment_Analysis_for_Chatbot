{
  "nbformat": 4,
  "nbformat_minor": 0,
  "metadata": {
    "colab": {
      "name": "Tweet Sentiment Analysis.ipynb",
      "provenance": [],
      "collapsed_sections": []
    },
    "kernelspec": {
      "name": "python3",
      "display_name": "Python 3"
    },
    "language_info": {
      "name": "python"
    }
  },
  "cells": [
    {
      "cell_type": "code",
      "metadata": {
        "colab": {
          "base_uri": "https://localhost:8080/"
        },
        "id": "GqvDfHeND9Ns",
        "outputId": "c9fcb2ba-297c-437d-afb4-4eeff9e10637"
      },
      "source": [
        "!pip install nlp"
      ],
      "execution_count": 57,
      "outputs": [
        {
          "output_type": "stream",
          "text": [
            "Requirement already satisfied: nlp in /usr/local/lib/python3.7/dist-packages (0.4.0)\n",
            "Requirement already satisfied: xxhash in /usr/local/lib/python3.7/dist-packages (from nlp) (2.0.2)\n",
            "Requirement already satisfied: pandas in /usr/local/lib/python3.7/dist-packages (from nlp) (1.1.5)\n",
            "Requirement already satisfied: tqdm>=4.27 in /usr/local/lib/python3.7/dist-packages (from nlp) (4.41.1)\n",
            "Requirement already satisfied: filelock in /usr/local/lib/python3.7/dist-packages (from nlp) (3.0.12)\n",
            "Requirement already satisfied: requests>=2.19.0 in /usr/local/lib/python3.7/dist-packages (from nlp) (2.23.0)\n",
            "Requirement already satisfied: dill in /usr/local/lib/python3.7/dist-packages (from nlp) (0.3.4)\n",
            "Requirement already satisfied: numpy in /usr/local/lib/python3.7/dist-packages (from nlp) (1.19.5)\n",
            "Requirement already satisfied: pyarrow>=0.16.0 in /usr/local/lib/python3.7/dist-packages (from nlp) (3.0.0)\n",
            "Requirement already satisfied: pytz>=2017.2 in /usr/local/lib/python3.7/dist-packages (from pandas->nlp) (2018.9)\n",
            "Requirement already satisfied: python-dateutil>=2.7.3 in /usr/local/lib/python3.7/dist-packages (from pandas->nlp) (2.8.1)\n",
            "Requirement already satisfied: chardet<4,>=3.0.2 in /usr/local/lib/python3.7/dist-packages (from requests>=2.19.0->nlp) (3.0.4)\n",
            "Requirement already satisfied: urllib3!=1.25.0,!=1.25.1,<1.26,>=1.21.1 in /usr/local/lib/python3.7/dist-packages (from requests>=2.19.0->nlp) (1.24.3)\n",
            "Requirement already satisfied: certifi>=2017.4.17 in /usr/local/lib/python3.7/dist-packages (from requests>=2.19.0->nlp) (2021.5.30)\n",
            "Requirement already satisfied: idna<3,>=2.5 in /usr/local/lib/python3.7/dist-packages (from requests>=2.19.0->nlp) (2.10)\n",
            "Requirement already satisfied: six>=1.5 in /usr/local/lib/python3.7/dist-packages (from python-dateutil>=2.7.3->pandas->nlp) (1.15.0)\n"
          ],
          "name": "stdout"
        }
      ]
    },
    {
      "cell_type": "code",
      "metadata": {
        "colab": {
          "base_uri": "https://localhost:8080/"
        },
        "id": "Oq2ywOm0Ed__",
        "outputId": "5f04a159-b21a-4d59-ae7c-4431f3a56b15"
      },
      "source": [
        "%matplotlib inline\n",
        "\n",
        "import tensorflow as tf\n",
        "import numpy as np\n",
        "import matplotlib.pyplot as plt\n",
        "import nlp\n",
        "import random\n",
        "\n",
        "\n",
        "def show_history(h):\n",
        "    epochs_trained = len(h.history['loss'])\n",
        "    plt.figure(figsize=(16, 6))\n",
        "\n",
        "    plt.subplot(1, 2, 1)\n",
        "    plt.plot(range(0, epochs_trained), h.history.get('accuracy'), label='Training')\n",
        "    plt.plot(range(0, epochs_trained), h.history.get('val_accuracy'), label='Validation')\n",
        "    plt.ylim([0., 1.])\n",
        "    plt.xlabel('Epochs')\n",
        "    plt.ylabel('Accuracy')\n",
        "    plt.legend()\n",
        "\n",
        "    plt.subplot(1, 2, 2)\n",
        "    plt.plot(range(0, epochs_trained), h.history.get('loss'), label='Training')\n",
        "    plt.plot(range(0, epochs_trained), h.history.get('val_loss'), label='Validation')\n",
        "    plt.xlabel('Epochs')\n",
        "    plt.ylabel('Loss')\n",
        "    plt.legend()\n",
        "    plt.show()\n",
        "\n",
        "    \n",
        "def show_confusion_matrix(y_true, y_pred, classes):\n",
        "    from sklearn.metrics import confusion_matrix\n",
        "    \n",
        "    cm = confusion_matrix(y_true, y_pred, normalize='true')\n",
        "\n",
        "    plt.figure(figsize=(8, 8))\n",
        "    sp = plt.subplot(1, 1, 1)\n",
        "    ctx = sp.matshow(cm)\n",
        "    plt.xticks(list(range(0, 6)), labels=classes)\n",
        "    plt.yticks(list(range(0, 6)), labels=classes)\n",
        "    plt.colorbar(ctx)\n",
        "    plt.show()\n",
        "\n",
        "    \n",
        "print('Using TensorFlow version', tf.__version__)"
      ],
      "execution_count": 2,
      "outputs": [
        {
          "output_type": "stream",
          "text": [
            "Using TensorFlow version 2.5.0\n"
          ],
          "name": "stdout"
        }
      ]
    },
    {
      "cell_type": "code",
      "metadata": {
        "id": "vviKiWY6EnoI"
      },
      "source": [
        "import pandas as pd\n",
        "import numpy as np\n",
        "import csv\n",
        "\n",
        "# Make numpy values easier to read.\n",
        "np.set_printoptions(precision=3, suppress=True)\n",
        "\n",
        "import tensorflow as tf\n",
        "from tensorflow.keras import layers\n",
        "from tensorflow.keras.preprocessing.text import Tokenizer\n",
        "from tensorflow.keras.layers.experimental import preprocessing\n",
        "from tensorflow.keras.preprocessing.sequence import pad_sequences\n",
        "maxlen = 100"
      ],
      "execution_count": 58,
      "outputs": []
    },
    {
      "cell_type": "code",
      "metadata": {
        "colab": {
          "base_uri": "https://localhost:8080/"
        },
        "id": "rVYEr6y_E4Gk",
        "outputId": "cd676cf0-74d1-4d08-ae94-a29726a5fd92"
      },
      "source": [
        "from google.colab import drive\n",
        "drive.mount('/content/gdrive')"
      ],
      "execution_count": 59,
      "outputs": [
        {
          "output_type": "stream",
          "text": [
            "Drive already mounted at /content/gdrive; to attempt to forcibly remount, call drive.mount(\"/content/gdrive\", force_remount=True).\n"
          ],
          "name": "stdout"
        }
      ]
    },
    {
      "cell_type": "code",
      "metadata": {
        "colab": {
          "base_uri": "https://localhost:8080/",
          "height": 204
        },
        "id": "Jm307vjtFCSH",
        "outputId": "630a6dca-c57e-4965-d669-53bc5f7c3284"
      },
      "source": [
        "#Data = pd.read_csv('/content/gdrive/MyDrive/Data/new_tweets.csv')\n",
        "Data = pd.read_csv('/content/gdrive/MyDrive/Data/Merge_Dataset.csv')\n",
        "Data.head()"
      ],
      "execution_count": 60,
      "outputs": [
        {
          "output_type": "execute_result",
          "data": {
            "text/html": [
              "<div>\n",
              "<style scoped>\n",
              "    .dataframe tbody tr th:only-of-type {\n",
              "        vertical-align: middle;\n",
              "    }\n",
              "\n",
              "    .dataframe tbody tr th {\n",
              "        vertical-align: top;\n",
              "    }\n",
              "\n",
              "    .dataframe thead th {\n",
              "        text-align: right;\n",
              "    }\n",
              "</style>\n",
              "<table border=\"1\" class=\"dataframe\">\n",
              "  <thead>\n",
              "    <tr style=\"text-align: right;\">\n",
              "      <th></th>\n",
              "      <th>text</th>\n",
              "      <th>lable</th>\n",
              "    </tr>\n",
              "  </thead>\n",
              "  <tbody>\n",
              "    <tr>\n",
              "      <th>0</th>\n",
              "      <td>i didnt feel humiliated</td>\n",
              "      <td>negative</td>\n",
              "    </tr>\n",
              "    <tr>\n",
              "      <th>1</th>\n",
              "      <td>i can go from feeling so hopeless to so damned...</td>\n",
              "      <td>negative</td>\n",
              "    </tr>\n",
              "    <tr>\n",
              "      <th>2</th>\n",
              "      <td>im grabbing a minute to post i feel greedy wrong</td>\n",
              "      <td>negative</td>\n",
              "    </tr>\n",
              "    <tr>\n",
              "      <th>3</th>\n",
              "      <td>i am ever feeling nostalgic about the fireplac...</td>\n",
              "      <td>positive</td>\n",
              "    </tr>\n",
              "    <tr>\n",
              "      <th>4</th>\n",
              "      <td>i am feeling grouchy</td>\n",
              "      <td>negative</td>\n",
              "    </tr>\n",
              "  </tbody>\n",
              "</table>\n",
              "</div>"
            ],
            "text/plain": [
              "                                                text     lable\n",
              "0                            i didnt feel humiliated  negative\n",
              "1  i can go from feeling so hopeless to so damned...  negative\n",
              "2   im grabbing a minute to post i feel greedy wrong  negative\n",
              "3  i am ever feeling nostalgic about the fireplac...  positive\n",
              "4                               i am feeling grouchy  negative"
            ]
          },
          "metadata": {
            "tags": []
          },
          "execution_count": 60
        }
      ]
    },
    {
      "cell_type": "code",
      "metadata": {
        "id": "y45gvQBDFMvD"
      },
      "source": [
        "tokenizer = Tokenizer(num_words=10000, oov_token='<UNK>')\n",
        "tokenizer.fit_on_texts(Data.text)"
      ],
      "execution_count": 61,
      "outputs": []
    },
    {
      "cell_type": "code",
      "metadata": {
        "colab": {
          "base_uri": "https://localhost:8080/"
        },
        "id": "8ifnYiA7FSBh",
        "outputId": "33d51d7e-d798-498b-884d-22385fa3b82a"
      },
      "source": [
        "tokenizer.texts_to_sequences([Data.text[0]])"
      ],
      "execution_count": 62,
      "outputs": [
        {
          "output_type": "execute_result",
          "data": {
            "text/plain": [
              "[[2, 166, 5, 833]]"
            ]
          },
          "metadata": {
            "tags": []
          },
          "execution_count": 62
        }
      ]
    },
    {
      "cell_type": "code",
      "metadata": {
        "colab": {
          "base_uri": "https://localhost:8080/",
          "height": 265
        },
        "id": "L34z84tIFmDt",
        "outputId": "14907db9-70b5-4780-b183-6beb909129c4"
      },
      "source": [
        "lengths = [len(t.split(' ')) for t in Data.text]\n",
        "plt.hist(lengths, bins = len(set(lengths)))\n",
        "plt.show()"
      ],
      "execution_count": 63,
      "outputs": [
        {
          "output_type": "display_data",
          "data": {
            "image/png": "[encoded data removed]",
            "text/plain": [
              "<Figure size 432x288 with 1 Axes>"
            ]
          },
          "metadata": {
            "tags": [],
            "needs_background": "light"
          }
        }
      ]
    },
    {
      "cell_type": "code",
      "metadata": {
        "id": "0Pkj6BLyFveZ"
      },
      "source": [
        "def get_sequences(tokenizer, tweets):\n",
        "  sequences = tokenizer.texts_to_sequences(tweets)\n",
        "  padded = pad_sequences(sequences, truncating='post', padding='post', maxlen=maxlen)\n",
        "  return padded"
      ],
      "execution_count": 64,
      "outputs": []
    },
    {
      "cell_type": "code",
      "metadata": {
        "id": "BE8500fwGBYP"
      },
      "source": [
        "padded_train_seq = get_sequences(tokenizer, Data.text)"
      ],
      "execution_count": 65,
      "outputs": []
    },
    {
      "cell_type": "code",
      "metadata": {
        "colab": {
          "base_uri": "https://localhost:8080/"
        },
        "id": "RN7QcWCTGIVC",
        "outputId": "49af375f-b78b-45e4-8a05-8464d1d7321e"
      },
      "source": [
        "padded_train_seq[0]"
      ],
      "execution_count": 66,
      "outputs": [
        {
          "output_type": "execute_result",
          "data": {
            "text/plain": [
              "array([  2, 166,   5, 833,   0,   0,   0,   0,   0,   0,   0,   0,   0,\n",
              "         0,   0,   0,   0,   0,   0,   0,   0,   0,   0,   0,   0,   0,\n",
              "         0,   0,   0,   0,   0,   0,   0,   0,   0,   0,   0,   0,   0,\n",
              "         0,   0,   0,   0,   0,   0,   0,   0,   0,   0,   0,   0,   0,\n",
              "         0,   0,   0,   0,   0,   0,   0,   0,   0,   0,   0,   0,   0,\n",
              "         0,   0,   0,   0,   0,   0,   0,   0,   0,   0,   0,   0,   0,\n",
              "         0,   0,   0,   0,   0,   0,   0,   0,   0,   0,   0,   0,   0,\n",
              "         0,   0,   0,   0,   0,   0,   0,   0,   0], dtype=int32)"
            ]
          },
          "metadata": {
            "tags": []
          },
          "execution_count": 66
        }
      ]
    },
    {
      "cell_type": "code",
      "metadata": {
        "colab": {
          "base_uri": "https://localhost:8080/"
        },
        "id": "TI028dMuGV6N",
        "outputId": "7e5085d0-04a1-4228-f916-c4e68cc4c424"
      },
      "source": [
        "classes = set(Data.lable)\n",
        "print(classes)"
      ],
      "execution_count": 67,
      "outputs": [
        {
          "output_type": "stream",
          "text": [
            "{'positive', 'neutral', 'negative'}\n"
          ],
          "name": "stdout"
        }
      ]
    },
    {
      "cell_type": "code",
      "metadata": {
        "colab": {
          "base_uri": "https://localhost:8080/",
          "height": 265
        },
        "id": "F8ykC5niGbyx",
        "outputId": "07fedd50-67c7-45dc-ec6f-aa486bb651d6"
      },
      "source": [
        "plt.hist(Data.lable, bins=11)\n",
        "plt.show()"
      ],
      "execution_count": 68,
      "outputs": [
        {
          "output_type": "display_data",
          "data": {
            "image/png": "[encoded data removed]",
            "text/plain": [
              "<Figure size 432x288 with 1 Axes>"
            ]
          },
          "metadata": {
            "tags": [],
            "needs_background": "light"
          }
        }
      ]
    },
    {
      "cell_type": "code",
      "metadata": {
        "id": "GPTZEqx_HLgP"
      },
      "source": [
        "class_to_index = dict((c, i) for i,c in enumerate(classes))\n",
        "index_to_class = dict((v, k) for k, v in class_to_index.items())"
      ],
      "execution_count": 69,
      "outputs": []
    },
    {
      "cell_type": "code",
      "metadata": {
        "colab": {
          "base_uri": "https://localhost:8080/"
        },
        "id": "cjnkKVPmHqvi",
        "outputId": "085beee4-2baa-401a-9e85-d34d20fd528a"
      },
      "source": [
        "class_to_index"
      ],
      "execution_count": 70,
      "outputs": [
        {
          "output_type": "execute_result",
          "data": {
            "text/plain": [
              "{'negative': 2, 'neutral': 1, 'positive': 0}"
            ]
          },
          "metadata": {
            "tags": []
          },
          "execution_count": 70
        }
      ]
    },
    {
      "cell_type": "code",
      "metadata": {
        "colab": {
          "base_uri": "https://localhost:8080/"
        },
        "id": "Cx08XeFkHuhE",
        "outputId": "317cfda9-b283-4264-9fd6-fa2a8bf00958"
      },
      "source": [
        "index_to_class"
      ],
      "execution_count": 71,
      "outputs": [
        {
          "output_type": "execute_result",
          "data": {
            "text/plain": [
              "{0: 'positive', 1: 'neutral', 2: 'negative'}"
            ]
          },
          "metadata": {
            "tags": []
          },
          "execution_count": 71
        }
      ]
    },
    {
      "cell_type": "code",
      "metadata": {
        "id": "66bRg4uMHyBE"
      },
      "source": [
        "names_to_ids = lambda labels: np.array([class_to_index.get(x) for x in Data.lable])"
      ],
      "execution_count": 72,
      "outputs": []
    },
    {
      "cell_type": "code",
      "metadata": {
        "colab": {
          "base_uri": "https://localhost:8080/"
        },
        "id": "rhzser4LH0-B",
        "outputId": "c30ae23a-05b6-403a-fc19-f19329217ccc"
      },
      "source": [
        "train_labels = names_to_ids(Data.lable)\n",
        "print(train_labels[3])"
      ],
      "execution_count": 73,
      "outputs": [
        {
          "output_type": "stream",
          "text": [
            "0\n"
          ],
          "name": "stdout"
        }
      ]
    },
    {
      "cell_type": "code",
      "metadata": {
        "id": "71-Sjz6XIEuM"
      },
      "source": [
        "model = tf.keras.Sequential([\n",
        "        tf.keras.layers.Embedding(10000, 16, input_length=maxlen),\n",
        "        tf.keras.layers.Bidirectional(tf.keras.layers.LSTM(20, return_sequences=True)),\n",
        "        tf.keras.layers.Bidirectional(tf.keras.layers.LSTM(20)),\n",
        "        tf.keras.layers.Dense(6, activation='softmax')\n",
        "])\n",
        "\n",
        "model.compile(\n",
        "    loss='sparse_categorical_crossentropy',\n",
        "    optimizer='adam',\n",
        "    metrics=['accuracy']\n",
        ")"
      ],
      "execution_count": 74,
      "outputs": []
    },
    {
      "cell_type": "code",
      "metadata": {
        "colab": {
          "base_uri": "https://localhost:8080/"
        },
        "id": "0AONzduKIHPF",
        "outputId": "ea516b2d-4e39-4be3-a422-f78f80d1babb"
      },
      "source": [
        "# from sklearn.model_selection import train_test_split\n",
        "\n",
        "# train, test = train_test_split(Data, test_size=0.2)\n",
        "\n",
        "train=Data.sample(frac=0.8,random_state=200) #random state is a seed value\n",
        "test=Data.drop(train.index)\n",
        "len(train.lable)"
      ],
      "execution_count": 75,
      "outputs": [
        {
          "output_type": "execute_result",
          "data": {
            "text/plain": [
              "17426"
            ]
          },
          "metadata": {
            "tags": []
          },
          "execution_count": 75
        }
      ]
    },
    {
      "cell_type": "code",
      "metadata": {
        "id": "OMvUB1rhIT-A"
      },
      "source": [
        "names_to_train_ids = lambda labels: np.array([class_to_index.get(x) for x in train.lable])"
      ],
      "execution_count": 76,
      "outputs": []
    },
    {
      "cell_type": "code",
      "metadata": {
        "id": "xpc5jenYIVex"
      },
      "source": [
        "train_tweets, train_label = train.text, train.lable\n",
        "train_seq = get_sequences(tokenizer, train_tweets)\n",
        "train_label = names_to_train_ids(train_label)\n",
        "#print(train_tweets[4])"
      ],
      "execution_count": 79,
      "outputs": []
    },
    {
      "cell_type": "code",
      "metadata": {
        "colab": {
          "base_uri": "https://localhost:8080/"
        },
        "id": "cRUL7fvWIuhN",
        "outputId": "8ca5c132-de8f-4aa9-db62-393be5cd56bd"
      },
      "source": [
        "h = model.fit(\n",
        "    padded_train_seq, train_labels,\n",
        "    validation_data=(train_seq, train_label),\n",
        "    epochs=20,\n",
        "    callbacks=[\n",
        "               tf.keras.callbacks.EarlyStopping(monitor='val_accuracy', patience=2)\n",
        "    ]\n",
        ")"
      ],
      "execution_count": 80,
      "outputs": [
        {
          "output_type": "stream",
          "text": [
            "Epoch 1/20\n",
            "681/681 [==============================] - 98s 136ms/step - loss: 0.6366 - accuracy: 0.7029 - val_loss: 0.2472 - val_accuracy: 0.9231\n",
            "Epoch 2/20\n",
            "681/681 [==============================] - 92s 134ms/step - loss: 0.1993 - accuracy: 0.9394 - val_loss: 0.1321 - val_accuracy: 0.9610\n",
            "Epoch 3/20\n",
            "681/681 [==============================] - 92s 136ms/step - loss: 0.1126 - accuracy: 0.9666 - val_loss: 0.0771 - val_accuracy: 0.9763\n",
            "Epoch 4/20\n",
            "681/681 [==============================] - 92s 135ms/step - loss: 0.0635 - accuracy: 0.9822 - val_loss: 0.0435 - val_accuracy: 0.9869\n",
            "Epoch 5/20\n",
            "681/681 [==============================] - 91s 133ms/step - loss: 0.0425 - accuracy: 0.9882 - val_loss: 0.0283 - val_accuracy: 0.9927\n",
            "Epoch 6/20\n",
            "681/681 [==============================] - 91s 134ms/step - loss: 0.0314 - accuracy: 0.9914 - val_loss: 0.0227 - val_accuracy: 0.9947\n",
            "Epoch 7/20\n",
            "681/681 [==============================] - 92s 135ms/step - loss: 0.0245 - accuracy: 0.9929 - val_loss: 0.0239 - val_accuracy: 0.9925\n",
            "Epoch 8/20\n",
            "681/681 [==============================] - 91s 133ms/step - loss: 0.0230 - accuracy: 0.9933 - val_loss: 0.0171 - val_accuracy: 0.9955\n",
            "Epoch 9/20\n",
            "681/681 [==============================] - 90s 133ms/step - loss: 0.0319 - accuracy: 0.9908 - val_loss: 0.0241 - val_accuracy: 0.9929\n",
            "Epoch 10/20\n",
            "681/681 [==============================] - 90s 132ms/step - loss: 0.0178 - accuracy: 0.9946 - val_loss: 0.0088 - val_accuracy: 0.9978\n",
            "Epoch 11/20\n",
            "681/681 [==============================] - 90s 133ms/step - loss: 0.0109 - accuracy: 0.9969 - val_loss: 0.0139 - val_accuracy: 0.9964\n",
            "Epoch 12/20\n",
            "681/681 [==============================] - 91s 133ms/step - loss: 0.0126 - accuracy: 0.9965 - val_loss: 0.0085 - val_accuracy: 0.9976\n"
          ],
          "name": "stdout"
        }
      ]
    },
    {
      "cell_type": "code",
      "metadata": {
        "colab": {
          "base_uri": "https://localhost:8080/",
          "height": 392
        },
        "id": "XLI4kkmvI0av",
        "outputId": "c3e4a5a0-ac81-475f-812a-0e147e48e1b5"
      },
      "source": [
        "show_history(h)"
      ],
      "execution_count": 81,
      "outputs": [
        {
          "output_type": "display_data",
          "data": {
            "image/png": "[encoded data removed]",
            "text/plain": [
              "<Figure size 1152x432 with 2 Axes>"
            ]
          },
          "metadata": {
            "tags": [],
            "needs_background": "light"
          }
        }
      ]
    },
    {
      "cell_type": "code",
      "metadata": {
        "id": "TqNed-JNI5P7"
      },
      "source": [
        "names_to_test_ids = lambda labels: np.array([class_to_index.get(x) for x in test.lable])"
      ],
      "execution_count": 82,
      "outputs": []
    },
    {
      "cell_type": "code",
      "metadata": {
        "id": "A-I17WClI9cG"
      },
      "source": [
        "test_tweets, test_labels = test.text,test.lable\n",
        "test_seq = get_sequences(tokenizer, test_tweets)\n",
        "test_labels = names_to_test_ids(test_labels)"
      ],
      "execution_count": 83,
      "outputs": []
    },
    {
      "cell_type": "code",
      "metadata": {
        "colab": {
          "base_uri": "https://localhost:8080/"
        },
        "id": "LxGfFVITJAtK",
        "outputId": "6a82ea66-9dc8-4aac-a641-56908cba0a02"
      },
      "source": [
        "_ = model.evaluate(test_seq, test_labels)"
      ],
      "execution_count": 84,
      "outputs": [
        {
          "output_type": "stream",
          "text": [
            "137/137 [==============================] - 3s 24ms/step - loss: 0.0045 - accuracy: 0.9991\n"
          ],
          "name": "stdout"
        }
      ]
    },
    {
      "cell_type": "code",
      "metadata": {
        "colab": {
          "base_uri": "https://localhost:8080/"
        },
        "id": "BHNtgR00JWep",
        "outputId": "652b3bcb-0158-4cd2-b248-301a43d5a434"
      },
      "source": [
        "i = random.randint(0, len(test_labels) - 1)\n",
        "print('Sentence: ', test_tweets[i])\n",
        "print('Emotion: ', index_to_class[test_labels[i]])\n",
        "\n",
        "p = model.predict(np.expand_dims(test_seq[i], axis=0))[0]\n",
        "pred_class = index_to_class[np.argmax(p).astype('uint8')]\n",
        "\n",
        "print('Predicted Emotion: ', pred_class)"
      ],
      "execution_count": 86,
      "outputs": [
        {
          "output_type": "stream",
          "text": [
            "Sentence:  i am still feeling passionate progressive and motivated but i am no longer trying to do everything and anything that i have never done before\n",
            "Emotion:  negative\n",
            "Predicted Emotion:  negative\n"
          ],
          "name": "stdout"
        }
      ]
    },
    {
      "cell_type": "code",
      "metadata": {
        "colab": {
          "base_uri": "https://localhost:8080/"
        },
        "id": "GMxlo5laJbJo",
        "outputId": "1e02156b-93f7-43bc-8fc3-63384e94df40"
      },
      "source": [
        "sentence = [\"having problem with the system, can I complain somewhere?\", \"I want to open a new account.\",\"i am paying 1000\"]\n",
        "sequences = tokenizer.texts_to_sequences(sentence)\n",
        "padded = pad_sequences(sequences, maxlen=100, padding='post', truncating='post')\n",
        "print(model.predict(padded))"
      ],
      "execution_count": 87,
      "outputs": [
        {
          "output_type": "stream",
          "text": [
            "[[0.003 0.586 0.411 0.    0.    0.   ]\n",
            " [0.991 0.003 0.006 0.    0.    0.   ]\n",
            " [0.094 0.557 0.349 0.    0.    0.   ]]\n"
          ],
          "name": "stdout"
        }
      ]
    },
    {
      "cell_type": "code",
      "metadata": {
        "colab": {
          "base_uri": "https://localhost:8080/"
        },
        "id": "54bYrIUZJt3G",
        "outputId": "a40223fb-4f7c-4f25-c0d7-21fde38b3cc2"
      },
      "source": [
        "p = model.predict(padded)[1]\n",
        "pred_class = index_to_class[np.argmax(p).astype('uint8')]\n",
        "print('Predicted Emotion: ', pred_class)\n",
        "print(f'Test loss: {p[0]} / Test accuracy: {p[0]}')"
      ],
      "execution_count": 88,
      "outputs": [
        {
          "output_type": "stream",
          "text": [
            "Predicted Emotion:  positive\n",
            "Test loss: 0.990872323513031 / Test accuracy: 0.990872323513031\n"
          ],
          "name": "stdout"
        }
      ]
    }
  ]
}